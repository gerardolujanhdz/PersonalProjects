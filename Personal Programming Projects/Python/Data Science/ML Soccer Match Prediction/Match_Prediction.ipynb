{
 "cells": [
  {
   "cell_type": "markdown",
   "metadata": {},
   "source": [
    "### Library Imports\n",
    "Importing Necessary Libraries Here"
   ]
  },
  {
   "cell_type": "code",
   "execution_count": 1,
   "metadata": {},
   "outputs": [],
   "source": [
    "# Purpose : Data Manipulation\n",
    "import pandas as pd\n",
    "import numpy as np\n",
    "\n",
    "# Purpose : Visualization\n",
    "import seaborn as sns\n",
    "import matplotlib.pyplot as plt"
   ]
  },
  {
   "cell_type": "code",
   "execution_count": 2,
   "metadata": {},
   "outputs": [],
   "source": [
    "# Loading in Datasets\n",
    "l1 = pd.read_csv('l1_final.csv')\n",
    "l1_match = pd.read_csv('l1_match.csv')"
   ]
  },
  {
   "cell_type": "code",
   "execution_count": 4,
   "metadata": {},
   "outputs": [
    {
     "name": "stdout",
     "output_type": "stream",
     "text": [
      "<class 'pandas.core.frame.DataFrame'>\n",
      "RangeIndex: 100 entries, 0 to 99\n",
      "Data columns (total 23 columns):\n",
      " #   Column           Non-Null Count  Dtype  \n",
      "---  ------           --------------  -----  \n",
      " 0   Rk               100 non-null    int64  \n",
      " 1   Squad            100 non-null    object \n",
      " 2   MP               100 non-null    int64  \n",
      " 3   W                100 non-null    int64  \n",
      " 4   D                100 non-null    int64  \n",
      " 5   L                100 non-null    int64  \n",
      " 6   GF               100 non-null    int64  \n",
      " 7   GA               100 non-null    int64  \n",
      " 8   GD               100 non-null    int64  \n",
      " 9   Pts              100 non-null    int64  \n",
      " 10  Pts/MP           100 non-null    float64\n",
      " 11  xG               100 non-null    float64\n",
      " 12  xGA              100 non-null    float64\n",
      " 13  xGD              100 non-null    float64\n",
      " 14  xGD/90           100 non-null    float64\n",
      " 15  Attendance       83 non-null     object \n",
      " 16  SSN              100 non-null    object \n",
      " 17  Age              95 non-null     float64\n",
      " 18  Prev_Rk          100 non-null    float64\n",
      " 19  Value            100 non-null    float64\n",
      " 20  Offense_Rating   100 non-null    int64  \n",
      " 21  Midfield_Rating  100 non-null    int64  \n",
      " 22  Defense_Rating   100 non-null    int64  \n",
      "dtypes: float64(8), int64(12), object(3)\n",
      "memory usage: 18.1+ KB\n"
     ]
    }
   ],
   "source": [
    "# Looking at the Datasets\n",
    "l1.info()"
   ]
  },
  {
   "cell_type": "markdown",
   "metadata": {},
   "source": [
    "Columns with Missing Values: Attendance, Age"
   ]
  },
  {
   "cell_type": "code",
   "execution_count": 5,
   "metadata": {},
   "outputs": [
    {
     "name": "stdout",
     "output_type": "stream",
     "text": [
      "<class 'pandas.core.frame.DataFrame'>\n",
      "RangeIndex: 1784 entries, 0 to 1783\n",
      "Data columns (total 13 columns):\n",
      " #   Column      Non-Null Count  Dtype  \n",
      "---  ------      --------------  -----  \n",
      " 0   Wk          1784 non-null   float64\n",
      " 1   Home        1784 non-null   object \n",
      " 2   xG          1784 non-null   float64\n",
      " 3   Score       1784 non-null   object \n",
      " 4   xG.1        1784 non-null   float64\n",
      " 5   Away        1784 non-null   object \n",
      " 6   Attendance  1784 non-null   float64\n",
      " 7   Venue       1784 non-null   object \n",
      " 8   SSN         1784 non-null   object \n",
      " 9   xG_Winner   1784 non-null   object \n",
      " 10  Home_Score  1784 non-null   int64  \n",
      " 11  Away_Score  1784 non-null   int64  \n",
      " 12  obs_Winner  1784 non-null   object \n",
      "dtypes: float64(4), int64(2), object(7)\n",
      "memory usage: 181.3+ KB\n"
     ]
    }
   ],
   "source": [
    "# Looking atthe Datasets\n",
    "l1_match.info()"
   ]
  },
  {
   "cell_type": "markdown",
   "metadata": {},
   "source": [
    "Columns with Missing Values: Attendance"
   ]
  },
  {
   "cell_type": "code",
   "execution_count": null,
   "metadata": {},
   "outputs": [],
   "source": []
  }
 ],
 "metadata": {
  "kernelspec": {
   "display_name": "Python 3.10.8 ('minimal_DS')",
   "language": "python",
   "name": "python3"
  },
  "language_info": {
   "codemirror_mode": {
    "name": "ipython",
    "version": 3
   },
   "file_extension": ".py",
   "mimetype": "text/x-python",
   "name": "python",
   "nbconvert_exporter": "python",
   "pygments_lexer": "ipython3",
   "version": "3.10.8"
  },
  "orig_nbformat": 4,
  "vscode": {
   "interpreter": {
    "hash": "32143a2b7e17a3479efd226926ec2c05bd1d05d88396758dd6739136e593113a"
   }
  }
 },
 "nbformat": 4,
 "nbformat_minor": 2
}
